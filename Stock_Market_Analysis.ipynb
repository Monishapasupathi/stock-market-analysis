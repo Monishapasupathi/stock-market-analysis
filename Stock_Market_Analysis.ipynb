
import pandas as pd
import numpy as np
import matplotlib.pyplot as plt
import seaborn as sns
import yfinance as yf

plt.style.use("seaborn-v0_8-darkgrid")

# Example: Download TCS India stock data (2020-2023)
df = yf.download("TCS.NS", start="2020-01-01", end="2023-12-31")
print("Dataset Shape:", df.shape)
df.head()

# Drop missing values
df = df.dropna()

# Remove outliers using IQR
q1 = df['Close'].quantile(0.25)
q3 = df['Close'].quantile(0.75)
iqr = q3 - q1
df = df[(df['Close'] >= q1 - 1.5*iqr) & (df['Close'] <= q3 + 1.5*iqr)]

print("After Cleaning:", df.shape)
df.head()
df.describe()

plt.figure(figsize=(12,6))
plt.plot(df['Close'], label="Closing Price", color="blue")
plt.title("Stock Closing Price Over Time")
plt.xlabel("Date")
plt.ylabel("Price (INR)")
plt.legend()
plt.show()

plt.figure(figsize=(10,5))
sns.histplot(df['Volume'], bins=50, kde=True, color="purple")
plt.title("Distribution of Trading Volume")
plt.xlabel("Volume")
plt.show()

df['MA50'] = df['Close'].rolling(window=50).mean()
df['MA200'] = df['Close'].rolling(window=200).mean()

plt.figure(figsize=(12,6))
plt.plot(df['Close'], label="Close", color="blue")
plt.plot(df['MA50'], label="50-day MA", color="orange")
plt.plot(df['MA200'], label="200-day MA", color="green")
plt.legend()
plt.title("Stock Price with Moving Averages")
plt.show()

df['Daily Return'] = df['Close'].pct_change()

plt.figure(figsize=(10,5))
sns.histplot(df['Daily Return'].dropna(), bins=50, kde=True, color="red")
plt.title("Daily Returns Distribution")
plt.xlabel("Daily Return")
plt.show()

df['Volatility'] = df['Daily Return'].rolling(window=30).std()

plt.figure(figsize=(12,6))
plt.plot(df['Volatility'], label="30-Day Volatility", color="brown")
plt.title("Stock Volatility Over Time")
plt.legend()
plt.show()

print("🔹 Stock shows general uptrend with corrections.")
print("🔹 High trading volume periods often align with large price moves.")
print("🔹 Daily returns are mostly small, but extreme values show volatility spikes.")
print("🔹 Moving averages help identify trend direction (crossovers indicate bullish/bearish signals).")

